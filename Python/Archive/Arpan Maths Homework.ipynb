{
 "cells": [
  {
   "cell_type": "code",
   "execution_count": 1,
   "metadata": {},
   "outputs": [],
   "source": [
    "import numpy as np\n",
    "import xlsxwriter\n",
    "np.random.seed(42)\n",
    "additions=[]\n",
    "additions2=[]\n",
    "workbook=xlsxwriter.Workbook('Arpan.xlsx')\n",
    "worksheet = workbook.add_worksheet(\"Additions\")\n",
    "row=0\n",
    "column=0\n",
    "for x in range(100):\n",
    "    additions.append(np.random.randint(1,101))\n",
    "    additions2.append(np.random.randint(1,11))\n",
    "    worksheet.write(row,column,additions[x])\n",
    "    worksheet.write(row,column+1,\"+\")\n",
    "    worksheet.write(row,column+2,additions2[x])\n",
    "    worksheet.write(row,column+3,\"equals\")\n",
    "    row+=1"
   ]
  },
  {
   "cell_type": "code",
   "execution_count": 2,
   "metadata": {},
   "outputs": [],
   "source": [
    "np.random.seed(123)\n",
    "subs=[]\n",
    "subs2=[]\n",
    "worksheet2 = workbook.add_worksheet(\"Subtractions\")\n",
    "row=0\n",
    "column=0\n",
    "for x in range(100):\n",
    "    subs.append(np.random.randint(1,101))\n",
    "    subs2.append(np.random.randint(1,11))\n",
    "    worksheet2.write(row,column,subs[x])\n",
    "    worksheet2.write(row,column+1,\"-\")\n",
    "    worksheet2.write(row,column+2,subs2[x])\n",
    "    worksheet2.write(row,column+3,\"equals\")\n",
    "    row+=1"
   ]
  },
  {
   "cell_type": "code",
   "execution_count": 3,
   "metadata": {},
   "outputs": [],
   "source": [
    "np.random.seed(70)\n",
    "times=[]\n",
    "times2=[]\n",
    "worksheet3 = workbook.add_worksheet(\"Multiplication\")\n",
    "row=0\n",
    "column=0\n",
    "for x in range(100):\n",
    "    times.append(np.random.randint(1,13))\n",
    "    times2.append(np.random.randint(1,13))\n",
    "    worksheet3.write(row,column,times[x])\n",
    "    worksheet3.write(row,column+1,\"x\")\n",
    "    worksheet3.write(row,column+2,times2[x])\n",
    "    worksheet3.write(row,column+3,\"equals\")\n",
    "    row+=1\n",
    "workbook.close()"
   ]
  },
  {
   "cell_type": "code",
   "execution_count": null,
   "metadata": {},
   "outputs": [],
   "source": []
  },
  {
   "cell_type": "code",
   "execution_count": null,
   "metadata": {},
   "outputs": [],
   "source": []
  }
 ],
 "metadata": {
  "kernelspec": {
   "display_name": "Python 3",
   "language": "python",
   "name": "python3"
  },
  "language_info": {
   "codemirror_mode": {
    "name": "ipython",
    "version": 3
   },
   "file_extension": ".py",
   "mimetype": "text/x-python",
   "name": "python",
   "nbconvert_exporter": "python",
   "pygments_lexer": "ipython3",
   "version": "3.7.6"
  }
 },
 "nbformat": 4,
 "nbformat_minor": 4
}
