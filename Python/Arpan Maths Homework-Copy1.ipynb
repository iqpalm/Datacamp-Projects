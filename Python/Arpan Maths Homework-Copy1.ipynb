{
 "cells": [
  {
   "cell_type": "code",
   "execution_count": 17,
   "metadata": {},
   "outputs": [],
   "source": [
    "import numpy as np\n",
    "import xlsxwriter\n",
    "\n",
    "def calculation (seed,calc):\n",
    "    np.random.seed(seed)\n",
    "    list=[]\n",
    "    list2=[]\n",
    "    row=0\n",
    "    column=0\n",
    "    if calc == \"+\" :\n",
    "        worksheet = workbook.add_worksheet(\"Additions\")\n",
    "        for x in range(100):\n",
    "            list.append(np.random.randint(1,101))\n",
    "            list2.append(np.random.randint(1,11))\n",
    "            worksheet.write(row,column,list[x])\n",
    "            worksheet.write(row,column+1,\"+\")\n",
    "            worksheet.write(row,column+2,list2[x])\n",
    "            worksheet.write(row,column+3,\"equals\")\n",
    "            row+=1\n",
    "        print(\"Adding\")\n",
    "    elif calc == \"-\" :\n",
    "        \n",
    "        worksheet = workbook.add_worksheet(\"Subtractions\")\n",
    "        for x in range(100):\n",
    "            list.append(np.random.randint(1,101))\n",
    "            list2.append(np.random.randint(1,11))\n",
    "            worksheet.write(row,column,list[x])\n",
    "            worksheet.write(row,column+1,\"-\")\n",
    "            worksheet.write(row,column+2,list2[x])\n",
    "            worksheet.write(row,column+3,\"equals\")\n",
    "            row+=1\n",
    "        print(\"Subtraction\")\n",
    "    elif calc == \"x\" :\n",
    "        \n",
    "        worksheet = workbook.add_worksheet(\"Multiplication\")\n",
    "        for x in range(100):\n",
    "            list.append(np.random.randint(1,101))\n",
    "            list2.append(np.random.randint(1,11))\n",
    "            worksheet.write(row,column,list[x])\n",
    "            worksheet.write(row,column+1,\"x\")\n",
    "            worksheet.write(row,column+2,list2[x])\n",
    "            worksheet.write(row,column+3,\"equals\")\n",
    "            row+=1\n",
    "        print(\"Multiplication\")"
   ]
  },
  {
   "cell_type": "code",
   "execution_count": 18,
   "metadata": {},
   "outputs": [
    {
     "name": "stdout",
     "output_type": "stream",
     "text": [
      "Adding\n",
      "Subtraction\n",
      "Multiplication\n"
     ]
    }
   ],
   "source": [
    "workbook=xlsxwriter.Workbook('Arpan2.xlsx')\n",
    "calculation(72,\"+\")\n",
    "calculation(100,\"-\")\n",
    "calculation(50,\"x\")\n",
    "workbook.close()"
   ]
  },
  {
   "cell_type": "code",
   "execution_count": null,
   "metadata": {},
   "outputs": [],
   "source": []
  },
  {
   "cell_type": "code",
   "execution_count": null,
   "metadata": {},
   "outputs": [],
   "source": []
  },
  {
   "cell_type": "code",
   "execution_count": null,
   "metadata": {},
   "outputs": [],
   "source": []
  },
  {
   "cell_type": "code",
   "execution_count": null,
   "metadata": {},
   "outputs": [],
   "source": []
  },
  {
   "cell_type": "code",
   "execution_count": null,
   "metadata": {},
   "outputs": [],
   "source": []
  },
  {
   "cell_type": "code",
   "execution_count": null,
   "metadata": {},
   "outputs": [],
   "source": []
  },
  {
   "cell_type": "code",
   "execution_count": null,
   "metadata": {},
   "outputs": [],
   "source": []
  }
 ],
 "metadata": {
  "kernelspec": {
   "display_name": "Python 3",
   "language": "python",
   "name": "python3"
  },
  "language_info": {
   "codemirror_mode": {
    "name": "ipython",
    "version": 3
   },
   "file_extension": ".py",
   "mimetype": "text/x-python",
   "name": "python",
   "nbconvert_exporter": "python",
   "pygments_lexer": "ipython3",
   "version": "3.7.6"
  }
 },
 "nbformat": 4,
 "nbformat_minor": 4
}
