{
 "cells": [
  {
   "cell_type": "code",
   "execution_count": 1,
   "metadata": {},
   "outputs": [],
   "source": [
    "import numpy as np\n",
    "import xlsxwriter\n",
    "\n",
    "def calculation (seed,calc):\n",
    "    \"\"\"Creates maths homework for my 6 year old daughter during lockdown\n",
    "    \n",
    "    Args:\n",
    "      seed (int): the random numbers are chosen from this particular seed\n",
    "      calc (str): The calculation to be assigned to the random numbers\n",
    "    \"\"\"\n",
    "    \n",
    "    np.random.seed(seed)\n",
    "    list=[]\n",
    "    list2=[]\n",
    "    row=0\n",
    "    column=0\n",
    "    if calc == \"+\" :\n",
    "        worksheet = workbook.add_worksheet(\"Additions\")\n",
    "        for x in range(100):\n",
    "            list.append(np.random.randint(1,101))\n",
    "            list2.append(np.random.randint(1,11))\n",
    "            worksheet.write(row,column,list[x])\n",
    "            worksheet.write(row,column+1,\"+\")\n",
    "            worksheet.write(row,column+2,list2[x])\n",
    "            worksheet.write(row,column+3,\"equals\")\n",
    "            row+=1\n",
    "        print(\"Adding spreadsheet tab created.....\")\n",
    "    elif calc == \"-\" :\n",
    "        \n",
    "        worksheet = workbook.add_worksheet(\"Subtractions\")\n",
    "        for x in range(100):\n",
    "            list.append(np.random.randint(1,101))\n",
    "            list2.append(np.random.randint(1,11))\n",
    "            worksheet.write(row,column,list[x])\n",
    "            worksheet.write(row,column+1,\"-\")\n",
    "            worksheet.write(row,column+2,list2[x])\n",
    "            worksheet.write(row,column+3,\"equals\")\n",
    "            row+=1\n",
    "        print(\"Subtraction spreadsheet tab created.....\")\n",
    "    elif calc == \"x\" :\n",
    "        \n",
    "        worksheet = workbook.add_worksheet(\"Multiplication\")\n",
    "        for x in range(100):\n",
    "            list.append(np.random.randint(1,13))\n",
    "            list2.append(np.random.randint(1,13))\n",
    "            worksheet.write(row,column,list[x])\n",
    "            worksheet.write(row,column+1,\"x\")\n",
    "            worksheet.write(row,column+2,list2[x])\n",
    "            worksheet.write(row,column+3,\"equals\")\n",
    "            row+=1\n",
    "        print(\"Multiplication spreadsheet tab created.....\")"
   ]
  },
  {
   "cell_type": "code",
   "execution_count": 2,
   "metadata": {},
   "outputs": [
    {
     "name": "stdout",
     "output_type": "stream",
     "text": [
      "Adding spreadsheet tab created.....\n",
      "Subtraction spreadsheet tab created.....\n",
      "Multiplication spreadsheet tab created.....\n",
      "Arpan Maths Homework file created\n"
     ]
    }
   ],
   "source": [
    "workbook=xlsxwriter.Workbook('Arpan Maths Homework.xlsx')\n",
    "calculation(72,\"+\")\n",
    "calculation(100,\"-\")\n",
    "calculation(50,\"x\")\n",
    "print(\"Arpan Maths Homework file created\")\n",
    "workbook.close()"
   ]
  },
  {
   "cell_type": "code",
   "execution_count": null,
   "metadata": {},
   "outputs": [],
   "source": []
  },
  {
   "cell_type": "code",
   "execution_count": null,
   "metadata": {},
   "outputs": [],
   "source": []
  },
  {
   "cell_type": "code",
   "execution_count": null,
   "metadata": {},
   "outputs": [],
   "source": []
  },
  {
   "cell_type": "code",
   "execution_count": null,
   "metadata": {},
   "outputs": [],
   "source": []
  },
  {
   "cell_type": "code",
   "execution_count": null,
   "metadata": {},
   "outputs": [],
   "source": []
  },
  {
   "cell_type": "code",
   "execution_count": null,
   "metadata": {},
   "outputs": [],
   "source": []
  },
  {
   "cell_type": "code",
   "execution_count": null,
   "metadata": {},
   "outputs": [],
   "source": []
  }
 ],
 "metadata": {
  "kernelspec": {
   "display_name": "Python 3",
   "language": "python",
   "name": "python3"
  },
  "language_info": {
   "codemirror_mode": {
    "name": "ipython",
    "version": 3
   },
   "file_extension": ".py",
   "mimetype": "text/x-python",
   "name": "python",
   "nbconvert_exporter": "python",
   "pygments_lexer": "ipython3",
   "version": "3.7.6"
  }
 },
 "nbformat": 4,
 "nbformat_minor": 4
}
